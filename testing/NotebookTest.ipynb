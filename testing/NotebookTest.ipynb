{
 "cells": [
  {
   "cell_type": "code",
   "execution_count": 2,
   "metadata": {},
   "outputs": [],
   "source": [
    "import sys\n",
    "sys.path.insert(1,'../')\n",
    "import pafi"
   ]
  },
  {
   "cell_type": "code",
   "execution_count": 3,
   "metadata": {},
   "outputs": [
    {
     "ename": "IndexError",
     "evalue": "index 2 is out of bounds for axis 0 with size 1",
     "output_type": "error",
     "traceback": [
      "\u001b[0;31m---------------------------------------------------------------------------\u001b[0m",
      "\u001b[0;31mIndexError\u001b[0m                                Traceback (most recent call last)",
      "Cell \u001b[0;32mIn[3], line 1\u001b[0m\n\u001b[0;32m----> 1\u001b[0m parser \u001b[39m=\u001b[39m pafi\u001b[39m.\u001b[39;49mParser(\u001b[39m\"\u001b[39;49m\u001b[39mTestConfigurations.xml\u001b[39;49m\u001b[39m\"\u001b[39;49m)\n",
      "File \u001b[0;32m~/Code/pafi-repos/pafi-master/testing/../pafi/parsers/Parser.py:31\u001b[0m, in \u001b[0;36mParser.__init__\u001b[0;34m(self, xml_path)\u001b[0m\n\u001b[1;32m     30\u001b[0m \u001b[39mdef\u001b[39;00m \u001b[39m__init__\u001b[39m(\u001b[39mself\u001b[39m, xml_path: \u001b[39mstr\u001b[39m) \u001b[39m-\u001b[39m\u001b[39m>\u001b[39m \u001b[39mNone\u001b[39;00m:\n\u001b[0;32m---> 31\u001b[0m     \u001b[39msuper\u001b[39;49m()\u001b[39m.\u001b[39;49m\u001b[39m__init__\u001b[39;49m(xml_path)\n\u001b[1;32m     33\u001b[0m     \u001b[39m# initial seed, but must be different across workers...\u001b[39;00m\n\u001b[1;32m     34\u001b[0m     \u001b[39mself\u001b[39m\u001b[39m.\u001b[39mseeded \u001b[39m=\u001b[39m \u001b[39mFalse\u001b[39;00m\n",
      "File \u001b[0;32m~/Code/pafi-repos/pafi-master/testing/../pafi/parsers/BaseParser.py:42\u001b[0m, in \u001b[0;36mBaseParser.__init__\u001b[0;34m(self, xml_path)\u001b[0m\n\u001b[1;32m     40\u001b[0m \u001b[39mfor\u001b[39;00m branch \u001b[39min\u001b[39;00m xml_file\u001b[39m.\u001b[39mgetroot():\n\u001b[1;32m     41\u001b[0m     \u001b[39mif\u001b[39;00m branch\u001b[39m.\u001b[39mtag\u001b[39m==\u001b[39m\u001b[39m\"\u001b[39m\u001b[39mAxes\u001b[39m\u001b[39m\"\u001b[39m:\n\u001b[0;32m---> 42\u001b[0m         \u001b[39mself\u001b[39;49m\u001b[39m.\u001b[39;49mread_axes(branch)\n\u001b[1;32m     43\u001b[0m     \u001b[39melif\u001b[39;00m branch\u001b[39m.\u001b[39mtag\u001b[39m==\u001b[39m\u001b[39m\"\u001b[39m\u001b[39mParameters\u001b[39m\u001b[39m\"\u001b[39m:\n\u001b[1;32m     44\u001b[0m         \u001b[39mself\u001b[39m\u001b[39m.\u001b[39mread_parameters(branch)\n",
      "File \u001b[0;32m~/Code/pafi-repos/pafi-master/testing/../pafi/parsers/BaseParser.py:107\u001b[0m, in \u001b[0;36mBaseParser.read_axes\u001b[0;34m(self, xml_axes)\u001b[0m\n\u001b[1;32m    105\u001b[0m \u001b[39m# check for form min max nsteps\u001b[39;00m\n\u001b[1;32m    106\u001b[0m min_max_form \u001b[39m=\u001b[39m data\u001b[39m.\u001b[39msize\u001b[39m==\u001b[39m\u001b[39m3\u001b[39m \u001b[39mand\u001b[39;00m data[\u001b[39m0\u001b[39m]\u001b[39m<\u001b[39mdata[\u001b[39m1\u001b[39m]\n\u001b[0;32m--> 107\u001b[0m min_max_form \u001b[39m*\u001b[39m\u001b[39m=\u001b[39m \u001b[39mint\u001b[39m(data[\u001b[39m2\u001b[39;49m])\u001b[39m>\u001b[39m\u001b[39m1\u001b[39m \u001b[39mand\u001b[39;00m \u001b[39mint\u001b[39m(data[\u001b[39m2\u001b[39m])\u001b[39m<\u001b[39m\u001b[39m20\u001b[39m\n\u001b[1;32m    108\u001b[0m \u001b[39mif\u001b[39;00m min_max_form:\n\u001b[1;32m    109\u001b[0m     \u001b[39mself\u001b[39m\u001b[39m.\u001b[39maxes[axis\u001b[39m.\u001b[39mtag] \u001b[39m=\u001b[39m np\u001b[39m.\u001b[39mlinspace(data[\u001b[39m0\u001b[39m],data[\u001b[39m1\u001b[39m],\u001b[39mint\u001b[39m(data[\u001b[39m2\u001b[39m]))\n",
      "\u001b[0;31mIndexError\u001b[0m: index 2 is out of bounds for axis 0 with size 1"
     ]
    }
   ],
   "source": [
    "parser = pafi.Parser(\"TestConfigurations.xml\")"
   ]
  },
  {
   "cell_type": "code",
   "execution_count": 3,
   "metadata": {},
   "outputs": [
    {
     "name": "stdout",
     "output_type": "stream",
     "text": [
      "[23, 34]\n"
     ]
    }
   ],
   "source": [
    "a = {'a':23,'b':34}\n",
    "print(list(a.values()))"
   ]
  },
  {
   "cell_type": "code",
   "execution_count": null,
   "metadata": {},
   "outputs": [],
   "source": []
  }
 ],
 "metadata": {
  "kernelspec": {
   "display_name": "mpi",
   "language": "python",
   "name": "python3"
  },
  "language_info": {
   "codemirror_mode": {
    "name": "ipython",
    "version": 3
   },
   "file_extension": ".py",
   "mimetype": "text/x-python",
   "name": "python",
   "nbconvert_exporter": "python",
   "pygments_lexer": "ipython3",
   "version": "3.11.0"
  },
  "orig_nbformat": 4
 },
 "nbformat": 4,
 "nbformat_minor": 2
}
